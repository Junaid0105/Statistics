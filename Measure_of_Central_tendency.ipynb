{
  "nbformat": 4,
  "nbformat_minor": 0,
  "metadata": {
    "colab": {
      "provenance": [],
      "authorship_tag": "ABX9TyM/tpRj63z/VURvQJVAJe4v",
      "include_colab_link": true
    },
    "kernelspec": {
      "name": "python3",
      "display_name": "Python 3"
    },
    "language_info": {
      "name": "python"
    }
  },
  "cells": [
    {
      "cell_type": "markdown",
      "metadata": {
        "id": "view-in-github",
        "colab_type": "text"
      },
      "source": [
        "<a href=\"https://colab.research.google.com/github/Junaid0105/Statistics/blob/main/Measure_of_Central_tendency.ipynb\" target=\"_parent\"><img src=\"https://colab.research.google.com/assets/colab-badge.svg\" alt=\"Open In Colab\"/></a>"
      ]
    },
    {
      "cell_type": "code",
      "execution_count": null,
      "metadata": {
        "id": "3WK3dMR9ReSa"
      },
      "outputs": [],
      "source": []
    },
    {
      "cell_type": "markdown",
      "source": [
        "# Measure Of Central Tendency\n",
        "\n",
        "1. Mean\n",
        "2. Median\n",
        "3. Mode"
      ],
      "metadata": {
        "id": "XjaLiRsXSBQH"
      }
    },
    {
      "cell_type": "code",
      "source": [
        "ages = [23,24,32,45,12,43,67,45,32,56,32,120] # add 120 which is basically outlier"
      ],
      "metadata": {
        "id": "kDlR7PLtSF8Y"
      },
      "execution_count": 6,
      "outputs": []
    },
    {
      "cell_type": "code",
      "source": [
        "import numpy as np"
      ],
      "metadata": {
        "id": "ncWPFo4ySjta"
      },
      "execution_count": 7,
      "outputs": []
    },
    {
      "cell_type": "code",
      "source": [
        "# mean\n",
        "print(np.mean(ages))"
      ],
      "metadata": {
        "colab": {
          "base_uri": "https://localhost:8080/"
        },
        "id": "AgoJNSGkSxTz",
        "outputId": "b29990e4-45e4-4bf4-8feb-648e3fcf5d41"
      },
      "execution_count": 8,
      "outputs": [
        {
          "output_type": "stream",
          "name": "stdout",
          "text": [
            "44.25\n"
          ]
        }
      ]
    },
    {
      "cell_type": "code",
      "source": [
        "# median\n",
        "print(np.median(ages))"
      ],
      "metadata": {
        "colab": {
          "base_uri": "https://localhost:8080/"
        },
        "id": "-k_hlendS6cO",
        "outputId": "9304436b-2ad1-47a0-d8be-a236e48d2f97"
      },
      "execution_count": 9,
      "outputs": [
        {
          "output_type": "stream",
          "name": "stdout",
          "text": [
            "37.5\n"
          ]
        }
      ]
    },
    {
      "cell_type": "code",
      "source": [
        "import statistics as st"
      ],
      "metadata": {
        "id": "t-wWN1CnS_kq"
      },
      "execution_count": 10,
      "outputs": []
    },
    {
      "cell_type": "code",
      "source": [
        "# mode\n",
        "print(st.mode(ages))"
      ],
      "metadata": {
        "colab": {
          "base_uri": "https://localhost:8080/"
        },
        "id": "iCacLNteUQwd",
        "outputId": "8dd1f0f0-eb41-49e9-8fd1-9923e1d953ef"
      },
      "execution_count": 12,
      "outputs": [
        {
          "output_type": "stream",
          "name": "stdout",
          "text": [
            "32\n"
          ]
        }
      ]
    },
    {
      "cell_type": "code",
      "source": [],
      "metadata": {
        "id": "X5Egi88XUUFz"
      },
      "execution_count": null,
      "outputs": []
    },
    {
      "cell_type": "markdown",
      "source": [
        "## We can calculate mean ,median, mode by statistics library but we can calculate only  mean and median by numpy"
      ],
      "metadata": {
        "id": "SmUCTjpEUdwa"
      }
    },
    {
      "cell_type": "code",
      "source": [
        "# Find outlier in dataset\n",
        "import seaborn as sns"
      ],
      "metadata": {
        "id": "P0s3jvxnU33I"
      },
      "execution_count": 13,
      "outputs": []
    },
    {
      "cell_type": "code",
      "source": [
        "sns.boxplot(ages)"
      ],
      "metadata": {
        "colab": {
          "base_uri": "https://localhost:8080/",
          "height": 447
        },
        "id": "BNSFNU9dVUtw",
        "outputId": "0e376ea9-39bb-4aec-c1d3-749d8186bdc2"
      },
      "execution_count": 17,
      "outputs": [
        {
          "output_type": "execute_result",
          "data": {
            "text/plain": [
              "<Axes: >"
            ]
          },
          "metadata": {},
          "execution_count": 17
        },
        {
          "output_type": "display_data",
          "data": {
            "text/plain": [
              "<Figure size 640x480 with 1 Axes>"
            ],
            "image/png": "[encoded data removed]"
          },
          "metadata": {}
        }
      ]
    },
    {
      "cell_type": "code",
      "source": [],
      "metadata": {
        "id": "LrFaH6npVbBh"
      },
      "execution_count": null,
      "outputs": []
    }
  ]
}