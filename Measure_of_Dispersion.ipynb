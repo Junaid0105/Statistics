{
  "nbformat": 4,
  "nbformat_minor": 0,
  "metadata": {
    "colab": {
      "provenance": [],
      "authorship_tag": "ABX9TyOyV4DANgK4ETdXiO/ujIqG",
      "include_colab_link": true
    },
    "kernelspec": {
      "name": "python3",
      "display_name": "Python 3"
    },
    "language_info": {
      "name": "python"
    }
  },
  "cells": [
    {
      "cell_type": "markdown",
      "metadata": {
        "id": "view-in-github",
        "colab_type": "text"
      },
      "source": [
        "<a href=\"https://colab.research.google.com/github/Junaid0105/Statistics/blob/main/Measure_of_Dispersion.ipynb\" target=\"_parent\"><img src=\"https://colab.research.google.com/assets/colab-badge.svg\" alt=\"Open In Colab\"/></a>"
      ]
    },
    {
      "cell_type": "markdown",
      "source": [
        "# Measure Of Dispersion\n",
        "1. Variance\n",
        "2. Standard Deviation"
      ],
      "metadata": {
        "id": "Tp0XLtAxYN7q"
      }
    },
    {
      "cell_type": "code",
      "source": [
        "import numpy as np\n",
        "import statistics as st"
      ],
      "metadata": {
        "id": "DkXzlPysYaiy"
      },
      "execution_count": 1,
      "outputs": []
    },
    {
      "cell_type": "code",
      "source": [
        "ages = [23,24,32,45,12,43,67,45,32,56,32,120] # add 120 which is basically outlier"
      ],
      "metadata": {
        "id": "0xrZG9aCYhOm"
      },
      "execution_count": 2,
      "outputs": []
    },
    {
      "cell_type": "code",
      "source": [
        "st.variance(ages) # it is sample variance"
      ],
      "metadata": {
        "colab": {
          "base_uri": "https://localhost:8080/"
        },
        "id": "jz2vNW4PZNk1",
        "outputId": "693518ca-065e-4af6-bbac-8cc3ff5a4580"
      },
      "execution_count": 6,
      "outputs": [
        {
          "output_type": "execute_result",
          "data": {
            "text/plain": [
              "795.2954545454545"
            ]
          },
          "metadata": {},
          "execution_count": 6
        }
      ]
    },
    {
      "cell_type": "code",
      "source": [
        "np.var(ages) # it is population variance"
      ],
      "metadata": {
        "colab": {
          "base_uri": "https://localhost:8080/"
        },
        "id": "3Dq9aQlaZQRX",
        "outputId": "c7b6a4f7-cabc-49d4-d63c-fce4c7de0869"
      },
      "execution_count": 5,
      "outputs": [
        {
          "output_type": "execute_result",
          "data": {
            "text/plain": [
              "729.0208333333334"
            ]
          },
          "metadata": {},
          "execution_count": 5
        }
      ]
    },
    {
      "cell_type": "code",
      "source": [
        "# Calculate variance mathematically\n",
        "def variance(data):\n",
        "  n = len(data)\n",
        "  ## mean of the data\n",
        "  mean = sum(data)/n\n",
        "  ##variance\n",
        "  deviation = [(x-mean)**2 for x in data]\n",
        "  variance = sum(deviation)/(n-1)\n",
        "  return variance"
      ],
      "metadata": {
        "id": "TqK9JvcHZTqf"
      },
      "execution_count": 11,
      "outputs": []
    },
    {
      "cell_type": "code",
      "source": [
        "variance(ages)"
      ],
      "metadata": {
        "colab": {
          "base_uri": "https://localhost:8080/"
        },
        "id": "5WBu9TE_bnGh",
        "outputId": "e9008828-1a5e-4b58-9211-0b18986fdf9a"
      },
      "execution_count": 12,
      "outputs": [
        {
          "output_type": "execute_result",
          "data": {
            "text/plain": [
              "795.2954545454545"
            ]
          },
          "metadata": {},
          "execution_count": 12
        }
      ]
    },
    {
      "cell_type": "code",
      "source": [
        "## We can give degree of freedom byb own\n",
        "# Calculate variance mathematically\n",
        "def variance(data,dof):\n",
        "  n = len(data)\n",
        "  ## mean of the data\n",
        "  mean = sum(data)/n\n",
        "  ##variance\n",
        "  deviation = [(x-mean)**2 for x in data]\n",
        "  variance = sum(deviation)/(n-dof)\n",
        "  return variance"
      ],
      "metadata": {
        "id": "GoHOjz-vbp2g"
      },
      "execution_count": 14,
      "outputs": []
    },
    {
      "cell_type": "code",
      "source": [
        "variance(ages,1)"
      ],
      "metadata": {
        "colab": {
          "base_uri": "https://localhost:8080/"
        },
        "id": "YuTp2hcJcW2l",
        "outputId": "adaefb6d-dbf4-4b07-a721-2a9142b26c8e"
      },
      "execution_count": 15,
      "outputs": [
        {
          "output_type": "execute_result",
          "data": {
            "text/plain": [
              "795.2954545454545"
            ]
          },
          "metadata": {},
          "execution_count": 15
        }
      ]
    },
    {
      "cell_type": "code",
      "source": [
        "variance(ages,0)"
      ],
      "metadata": {
        "colab": {
          "base_uri": "https://localhost:8080/"
        },
        "id": "KT2Pm54pcaOr",
        "outputId": "0b91dbf6-3ec9-43bd-88f6-0bc8a68147e4"
      },
      "execution_count": 16,
      "outputs": [
        {
          "output_type": "execute_result",
          "data": {
            "text/plain": [
              "729.0208333333334"
            ]
          },
          "metadata": {},
          "execution_count": 16
        }
      ]
    },
    {
      "cell_type": "code",
      "source": [
        "# Standard deviation\n",
        "import math"
      ],
      "metadata": {
        "id": "93UvqUCbcd0o"
      },
      "execution_count": 17,
      "outputs": []
    },
    {
      "cell_type": "code",
      "source": [
        "math.sqrt(variance(ages,0))"
      ],
      "metadata": {
        "colab": {
          "base_uri": "https://localhost:8080/"
        },
        "id": "c5_4uFqbcvkg",
        "outputId": "37f4c136-36c0-4090-d6c6-3f009a58e7d1"
      },
      "execution_count": 19,
      "outputs": [
        {
          "output_type": "execute_result",
          "data": {
            "text/plain": [
              "27.000385799712813"
            ]
          },
          "metadata": {},
          "execution_count": 19
        }
      ]
    },
    {
      "cell_type": "code",
      "source": [],
      "metadata": {
        "id": "bwVRpj9bc3jC"
      },
      "execution_count": null,
      "outputs": []
    }
  ]
}